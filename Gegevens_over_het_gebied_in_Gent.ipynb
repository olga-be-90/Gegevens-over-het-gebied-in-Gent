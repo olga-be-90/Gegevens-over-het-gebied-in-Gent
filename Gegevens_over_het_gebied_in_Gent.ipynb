{
  "nbformat": 4,
  "nbformat_minor": 0,
  "metadata": {
    "colab": {
      "provenance": [],
      "authorship_tag": "ABX9TyMwMseZjkM4z3J0RP6VlDa+",
      "include_colab_link": true
    },
    "kernelspec": {
      "name": "python3",
      "display_name": "Python 3"
    },
    "language_info": {
      "name": "python"
    }
  },
  "cells": [
    {
      "cell_type": "markdown",
      "metadata": {
        "id": "view-in-github",
        "colab_type": "text"
      },
      "source": [
        "<a href=\"https://colab.research.google.com/github/olga-be-90/Gegevens-over-het-gebied-in-Gent/blob/main/Gegevens_over_het_gebied_in_Gent.ipynb\" target=\"_parent\"><img src=\"https://colab.research.google.com/assets/colab-badge.svg\" alt=\"Open In Colab\"/></a>"
      ]
    },
    {
      "cell_type": "markdown",
      "source": [
        "## Gegevens over het gebied in Gent\n",
        "Het programma vraagt de gebruiker om de buurt te selecteren waarin hij of zij woont. Vervolgens toont het een grafiek van de bevolkingsgroei van 2000 tot 2023. Verder kan men een deel van de grafiek in meer detail bekijken door de gegevens te filteren voor het geselecteerde jaarbereik.\n",
        "Vervolgens wordt het aantal en type van de meest voorkomende misdrijven in de buurt van het afgelopen jaar weergegeven.\n"
      ],
      "metadata": {
        "id": "ZYFSQMbfGodL"
      }
    },
    {
      "cell_type": "markdown",
      "source": [
        "### De gebruiker selecteert het district waarin hij/zij woont"
      ],
      "metadata": {
        "id": "oZR7vRvpGvro"
      }
    },
    {
      "cell_type": "code",
      "source": [
        "print(\"Geef je wijk (voer het nummer in dat aan het district is toegewezen):\\n1. Binnenstad\\n2. Sluizeken - Tolhuis - Ham\\n3. Macharius - Heirnis\\n4. Brugse Poort - Rooigem\\n5. Watersportbaan - Ekkergem\\n6. Elisabethbegijnhof - Prinsenhof - Papegaai - Sint-Michiels\\n7. Rabot - Blaisantvest\\n8. Wondelgem\\n9. Bloemekenswijk\\n10. Muide - Meulestede - Afrikalaan\\n11. Gentse Kanaaldorpen en -zone\\n12. Oostakker\\n13. Dampoort\\n14. Sint-Amandsberg\\n15. Moscou - Vogelhoek\\n16. Gentbrugge\\n17. Oud Gentbrugge\\n18. Ledeberg\\n19. Zwijnaarde\\n20. Nieuw Gent - UZ\\n21. Stationsbuurt-Zuid\\n22. Stationsbuurt-Noord\\n23. Sint-Denijs-Westrem - Afsnee\\n24. Mariakerke\\n25. Drongen \")\n",
        "wijk = input()\n",
        "\n",
        "while wijk != \"1\" and wijk != \"2\" and wijk != \"3\" and wijk != \"4\" and wijk != \"5\" and wijk != \"6\" and wijk != \"7\" and wijk != \"8\" and wijk != \"9\" and wijk != \"10\" and wijk != \"11\" and wijk != \"12\" and wijk != \"13\" and wijk != \"14\" and wijk != \"15\" and wijk != \"16\" and wijk != \"17\" and wijk != \"18\" and wijk != \"19\" and wijk != \"20\" and wijk != \"21\" and wijk != \"22\" and wijk != \"23\" and wijk != \"24\" and wijk != \"25\":\n",
        "    print(\"Geef het nummer van 1 tot 25, zonder punt aan het einde.\")\n",
        "    wijk = input()"
      ],
      "metadata": {
        "id": "yQC6OyKHGwyK"
      },
      "execution_count": null,
      "outputs": []
    },
    {
      "cell_type": "markdown",
      "source": [
        "### Bevolkingsgroei met MatPlotLib"
      ],
      "metadata": {
        "id": "fbeGwD72HAu5"
      }
    },
    {
      "cell_type": "code",
      "source": [
        "import requests\n",
        "import pandas as pd\n",
        "import matplotlib.pyplot as plt\n",
        "\n",
        "URL = \"https://data.stad.gent/api/records/1.0/search/?dataset=bevolkingsaantal-per-wijk-per-jaar-gent&q=&rows=10000\"\n",
        "\n",
        "response = requests.get(URL)\n",
        "json_data = response.json()\n",
        "\n",
        "# De relevante gegevens selecteren en een maken list van dictionaries\n",
        "rows = []\n",
        "for bevolkingsaantal in json_data['records']:\n",
        "    row = {}\n",
        "    row['wijk_code'] = bevolkingsaantal['fields']['wijkcode']\n",
        "    #row['wijk_naam'] = bevolkingsaantal['fields']['wijk']\n",
        "    row['jaar'] = bevolkingsaantal['fields']['period']\n",
        "    row['aantal'] = bevolkingsaantal['fields']['valuestring']\n",
        "    rows.append(row)\n",
        "print(rows)\n",
        "\n",
        "# Een Data Frame maken van list van dictionaries\n",
        "df = pd.DataFrame(rows)\n",
        "display(df.head(10))"
      ],
      "metadata": {
        "id": "MAFCJudwHDdU"
      },
      "execution_count": null,
      "outputs": []
    },
    {
      "cell_type": "code",
      "source": [
        "# Creëren van een Data Frame voor een wijk geselecteerd door de gebruiker\n",
        "df_wijk = df[df['wijk_code'] == wijk]\n",
        "df_wijk = df_wijk.sort_values(by='jaar')\n",
        "display(df_wijk.head(10))\n",
        "\n",
        "plt.plot(df_wijk[\"jaar\"].values, df_wijk[\"aantal\"].values)\n",
        "\n",
        "# Customize the plot\n",
        "plt.xlabel('Year')\n",
        "plt.ylabel('Bewolking')\n",
        "plt.title('Bevolkingsgroei in uw district')\n",
        "plt.xticks(['2000', '2004', '2008', '2012', '2016', '2020', '2023'])\n",
        "\n",
        "# Display the plot\n",
        "plt.show()\n"
      ],
      "metadata": {
        "id": "DRMJCtX1HIk2"
      },
      "execution_count": null,
      "outputs": []
    },
    {
      "cell_type": "code",
      "source": [
        "# Filtratie voor geselecteerde jaren om te onderzoeken\n",
        "\n",
        "# Conversie string naar integers\n",
        "df_wijk['jaar'] = df_wijk['jaar'].astype(int)\n",
        "\n",
        "# Filteren van alleen gegevens voor geselecteerde jaren\n",
        "df_wijk_fil = df_wijk[(df_wijk['jaar'] >= 2002) & (df_wijk['jaar'] <= 2010)]\n",
        "\n",
        "plt.plot(df_wijk_fil[\"jaar\"].values, df_wijk_fil[\"aantal\"].values)\n",
        "\n",
        "# Customize the plot\n",
        "plt.xlabel('Year')\n",
        "plt.ylabel('Bewolking')\n",
        "plt.title('Bevolkingsgroei in uw district voor geselecteerde jaren')\n",
        "\n",
        "\n",
        "# Display the plot\n",
        "plt.show()"
      ],
      "metadata": {
        "id": "Xb97dvw6HN3k"
      },
      "execution_count": null,
      "outputs": []
    },
    {
      "cell_type": "markdown",
      "source": [
        "### Presentatie van criminaliteitscijfers met Pandas"
      ],
      "metadata": {
        "id": "Hr7e82BgHQSZ"
      }
    },
    {
      "cell_type": "code",
      "source": [
        "URL = \"https://data.stad.gent/api/records/1.0/search/?dataset=criminaliteitscijfers-per-wijk-per-maand-gent-2022&q=&rows=10000&start=0&sort=-jaar_maand\"\n",
        "\n",
        "response = requests.get(URL)\n",
        "json_data = response.json()\n",
        "\n",
        "# De relevante gegevens selecteren en een maken list van dictionaries\n",
        "rows = []\n",
        "for criminaliteit in json_data['records']:\n",
        "    row = {}\n",
        "    row['wijk_code'] = criminaliteit['fields']['quarter_code']\n",
        "    row['wijk'] = criminaliteit['fields']['quarter']\n",
        "    row['misdaad'] = criminaliteit['fields']['fact_category']\n",
        "    row['aantal'] = criminaliteit['fields']['total']\n",
        "    rows.append(row)\n",
        "print(rows)\n",
        "\n",
        "# Een Data Frame maken van list van dictionaries\n",
        "df = pd.DataFrame(rows)\n",
        "display(df.head(10))"
      ],
      "metadata": {
        "id": "pdbKiN6VHRBP"
      },
      "execution_count": null,
      "outputs": []
    },
    {
      "cell_type": "code",
      "source": [
        "# Creëren van een Data Frame voor een wijk geselecteerd door de gebruiker\n",
        "df_wijk = df[df['wijk_code'] == wijk]\n",
        "\n",
        "# De grafiek afdrukken\n",
        "df.groupby(['misdaad'])['aantal'].sum().head().plot.bar(title='Totaal aantal misdaden in uw district in 2022')\n",
        "\n",
        "print(\"Lees politietips over hoe je jezelf kunt beschermen tegen een misdrijf: https://www.politie.be/5415/vragen/preventie\")"
      ],
      "metadata": {
        "id": "4LM2iFhIHVYF"
      },
      "execution_count": null,
      "outputs": []
    }
  ]
}